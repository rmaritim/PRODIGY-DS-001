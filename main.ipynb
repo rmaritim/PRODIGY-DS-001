{
 "cells": [
  {
   "cell_type": "code",
<<<<<<< HEAD
   "execution_count": 5,
=======
   "execution_count": 13,
>>>>>>> c3bd876542508caa35730899588ec6a185876657
   "metadata": {},
   "outputs": [],
   "source": [
    "\n",
    "import pyodbc    \n",
    "from dotenv import dotenv_values\n",
    "import warnings \n",
    "warnings.filterwarnings('ignore')\n",
    "from statsmodels.tools.sm_exceptions import ValueWarning\n",
    "\n",
    "#libraries for handling data\n",
    "import pandas as pd\n",
    "import numpy as np \n",
    "import os\n",
    "import glob\n",
    "\n",
    "import matplotlib.pyplot as plt\n",
    "import seaborn as sns\n",
    "\n"
   ]
  },
  {
   "cell_type": "code",
<<<<<<< HEAD
   "execution_count": 8,
=======
   "execution_count": 2,
>>>>>>> c3bd876542508caa35730899588ec6a185876657
   "metadata": {},
   "outputs": [],
   "source": [
    "conn_str = (\n",
    "    r'DRIVER={ODBC Driver 17 for SQL Server};'\n",
    "    r'SERVER=dap-projects-database.database.windows.net;'\n",
    "    r'DATABASE=dapDB;'\n",
    "    r'UID=capstone;'\n",
    "    r'PWD=Z7x@8pM$2w'\n",
    ")\n",
    "conn = pyodbc.connect(conn_str)"
   ]
  },
  {
   "cell_type": "code",
<<<<<<< HEAD
   "execution_count": 11,
   "metadata": {},
   "outputs": [],
   "source": [
    "df = pd.read_csv(\"data/Sales_April_2019.csv\")"
   ]
  },
  {
   "cell_type": "code",
   "execution_count": 18,
   "metadata": {},
   "outputs": [],
   "source": [
    "df = pd.read_csv(\"data/Sales_August_2019.csv\")"
   ]
  },
  {
   "cell_type": "code",
   "execution_count": 19,
   "metadata": {},
   "outputs": [],
   "source": [
    "df = pd.read_csv(\"data/Sales_December_2019.csv\")"
   ]
  },
  {
   "cell_type": "code",
   "execution_count": 24,
   "metadata": {},
   "outputs": [],
   "source": [
    "df = pd.read_csv(\"data/Sales_January_2019.csv\")"
   ]
  },
  {
   "cell_type": "code",
   "execution_count": 22,
   "metadata": {},
   "outputs": [],
   "source": [
    "\n",
    "df = pd.read_csv(\"data/Sales_February_2019.csv\")\n"
   ]
  },
  {
   "cell_type": "code",
   "execution_count": 25,
   "metadata": {},
   "outputs": [],
   "source": [
    "df = pd.read_csv(\"data/Sales_july_2019.csv\")"
   ]
  },
  {
   "cell_type": "code",
   "execution_count": 26,
   "metadata": {},
   "outputs": [],
   "source": [
    "df = pd.read_csv(\"data/Sales_June_2019.csv\")"
   ]
  },
  {
   "cell_type": "code",
   "execution_count": 27,
   "metadata": {},
   "outputs": [],
   "source": [
    "df = pd.read_csv(\"data/Sales_march_2019.csv\")"
   ]
  },
  {
   "cell_type": "code",
   "execution_count": 28,
   "metadata": {},
   "outputs": [],
   "source": [
    "df = pd.read_csv(\"data/Sales_may_2019.csv\")"
   ]
  },
  {
   "cell_type": "code",
   "execution_count": 29,
   "metadata": {},
   "outputs": [],
   "source": [
    "df = pd.read_csv(\"data/Sales_November_2019.csv\")"
   ]
  },
  {
   "cell_type": "code",
   "execution_count": 30,
   "metadata": {},
   "outputs": [],
   "source": [
    "df = pd.read_csv(\"data/Sales_october_2019.csv\")"
   ]
  },
  {
   "cell_type": "code",
   "execution_count": 31,
   "metadata": {},
   "outputs": [],
   "source": [
    "df = pd.read_csv(\"data/Sales_september_2019.csv\")"
   ]
  },
  {
   "cell_type": "code",
   "execution_count": 37,
   "metadata": {},
   "outputs": [
    {
     "name": "stdout",
     "output_type": "stream",
     "text": [
      "Combined DataFrame:\n",
      "   Order_ID                Product  Quantity_Ordered  Price_Each  \\\n",
      "0  248151.0  AA Batteries (4-pack)               4.0    3.840000   \n",
      "1  248152.0   USB-C Charging Cable               2.0   11.950000   \n",
      "2  248153.0   USB-C Charging Cable               1.0   11.950000   \n",
      "3  248154.0       27in FHD Monitor               1.0  149.990005   \n",
      "4  248155.0   USB-C Charging Cable               1.0   11.950000   \n",
      "\n",
      "                    Order_Date                       Purchase_Address  \n",
      "0  2017-09-19 14:44:00.0000000    380 North St, Los Angeles, CA 90001  \n",
      "1  2029-09-19 10:19:00.0000000           511 8th St, Austin, TX 73301  \n",
      "2  2016-09-19 17:48:00.0000000  151 Johnson St, Los Angeles, CA 90001  \n",
      "3  2027-09-19 07:52:00.0000000      355 Hickory St, Seattle, WA 98101  \n",
      "4  2001-09-19 19:03:00.0000000          125 5th St, Atlanta, GA 30301  \n"
     ]
    }
   ],
   "source": [
    "# List to hold DataFrames\n",
    "dfs = []\n",
    " # Append DataFrame to the list\n",
    "dfs.append(df)\n",
    "\n",
    "# Concatenate all DataFrames into one\n",
    "combined_df = pd.concat(dfs, ignore_index=True)\n",
    "\n",
    "# Display the first few rows of the combined DataFrame\n",
    "print(\"Combined DataFrame:\")\n",
    "print(combined_df.head())\n"
   ]
  },
  {
   "cell_type": "code",
   "execution_count": 41,
   "metadata": {},
   "outputs": [
    {
     "data": {
      "text/plain": [
       "<bound method DataFrame.info of        Order_ID                 Product  Quantity_Ordered  Price_Each  \\\n",
       "0      248151.0   AA Batteries (4-pack)               4.0    3.840000   \n",
       "1      248152.0    USB-C Charging Cable               2.0   11.950000   \n",
       "2      248153.0    USB-C Charging Cable               1.0   11.950000   \n",
       "3      248154.0        27in FHD Monitor               1.0  149.990005   \n",
       "4      248155.0    USB-C Charging Cable               1.0   11.950000   \n",
       "...         ...                     ...               ...         ...   \n",
       "11681  259353.0  AAA Batteries (4-pack)               3.0    2.990000   \n",
       "11682  259354.0                  iPhone               1.0  700.000000   \n",
       "11683  259355.0                  iPhone               1.0  700.000000   \n",
       "11684  259356.0  34in Ultrawide Monitor               1.0  379.989990   \n",
       "11685  259357.0    USB-C Charging Cable               1.0   11.950000   \n",
       "\n",
       "                        Order_Date                         Purchase_Address  \n",
       "0      2017-09-19 14:44:00.0000000      380 North St, Los Angeles, CA 90001  \n",
       "1      2029-09-19 10:19:00.0000000             511 8th St, Austin, TX 73301  \n",
       "2      2016-09-19 17:48:00.0000000    151 Johnson St, Los Angeles, CA 90001  \n",
       "3      2027-09-19 07:52:00.0000000        355 Hickory St, Seattle, WA 98101  \n",
       "4      2001-09-19 19:03:00.0000000            125 5th St, Atlanta, GA 30301  \n",
       "...                            ...                                      ...  \n",
       "11681  2017-09-19 20:56:00.0000000   840 Highland St, Los Angeles, CA 90001  \n",
       "11682  2001-09-19 16:00:00.0000000  216 Dogwood St, San Francisco, CA 94016  \n",
       "11683  2023-09-19 07:39:00.0000000     220 12th St, San Francisco, CA 94016  \n",
       "11684  2019-09-19 17:30:00.0000000   511 Forest St, San Francisco, CA 94016  \n",
       "11685  2030-09-19 00:18:00.0000000   250 Meadow St, San Francisco, CA 94016  \n",
       "\n",
       "[11686 rows x 6 columns]>"
      ]
     },
     "execution_count": 41,
     "metadata": {},
     "output_type": "execute_result"
    }
   ],
   "source": [
    "combined_df.info"
   ]
  },
  {
   "cell_type": "code",
   "execution_count": 42,
   "metadata": {},
   "outputs": [
    {
     "data": {
      "text/plain": [
       "(11686, 6)"
      ]
     },
     "execution_count": 42,
     "metadata": {},
     "output_type": "execute_result"
    }
   ],
   "source": [
    "combined_df.shape"
   ]
  },
  {
   "cell_type": "code",
   "execution_count": 43,
   "metadata": {},
   "outputs": [
    {
     "data": {
      "text/plain": [
       "<bound method NDFrame.describe of        Order_ID                 Product  Quantity_Ordered  Price_Each  \\\n",
       "0      248151.0   AA Batteries (4-pack)               4.0    3.840000   \n",
       "1      248152.0    USB-C Charging Cable               2.0   11.950000   \n",
       "2      248153.0    USB-C Charging Cable               1.0   11.950000   \n",
       "3      248154.0        27in FHD Monitor               1.0  149.990005   \n",
       "4      248155.0    USB-C Charging Cable               1.0   11.950000   \n",
       "...         ...                     ...               ...         ...   \n",
       "11681  259353.0  AAA Batteries (4-pack)               3.0    2.990000   \n",
       "11682  259354.0                  iPhone               1.0  700.000000   \n",
       "11683  259355.0                  iPhone               1.0  700.000000   \n",
       "11684  259356.0  34in Ultrawide Monitor               1.0  379.989990   \n",
       "11685  259357.0    USB-C Charging Cable               1.0   11.950000   \n",
       "\n",
       "                        Order_Date                         Purchase_Address  \n",
       "0      2017-09-19 14:44:00.0000000      380 North St, Los Angeles, CA 90001  \n",
       "1      2029-09-19 10:19:00.0000000             511 8th St, Austin, TX 73301  \n",
       "2      2016-09-19 17:48:00.0000000    151 Johnson St, Los Angeles, CA 90001  \n",
       "3      2027-09-19 07:52:00.0000000        355 Hickory St, Seattle, WA 98101  \n",
       "4      2001-09-19 19:03:00.0000000            125 5th St, Atlanta, GA 30301  \n",
       "...                            ...                                      ...  \n",
       "11681  2017-09-19 20:56:00.0000000   840 Highland St, Los Angeles, CA 90001  \n",
       "11682  2001-09-19 16:00:00.0000000  216 Dogwood St, San Francisco, CA 94016  \n",
       "11683  2023-09-19 07:39:00.0000000     220 12th St, San Francisco, CA 94016  \n",
       "11684  2019-09-19 17:30:00.0000000   511 Forest St, San Francisco, CA 94016  \n",
       "11685  2030-09-19 00:18:00.0000000   250 Meadow St, San Francisco, CA 94016  \n",
       "\n",
       "[11686 rows x 6 columns]>"
      ]
     },
     "execution_count": 43,
     "metadata": {},
     "output_type": "execute_result"
    }
   ],
   "source": [
    "combined_df.describe"
   ]
  },
  {
   "cell_type": "code",
   "execution_count": 44,
   "metadata": {},
   "outputs": [
    {
     "data": {
      "text/plain": [
       "Order_ID            57\n",
       "Product             40\n",
       "Quantity_Ordered    57\n",
       "Price_Each          57\n",
       "Order_Date          57\n",
       "Purchase_Address    40\n",
       "dtype: int64"
      ]
     },
     "execution_count": 44,
     "metadata": {},
     "output_type": "execute_result"
    }
   ],
   "source": [
    "#Display number of missing values in each column\n",
    "(combined_df.isnull().sum())"
=======
   "execution_count": null,
   "metadata": {},
   "outputs": [],
   "source": [
    "# cursor = connection.cursor()\n",
    "\n",
    "# # Query to get all tables in the current database\n",
    "# cursor.execute(\"\"\"\n",
    "#     SELECT TABLE_NAME\n",
    "#     FROM INFORMATION_SCHEMA.TABLES\n",
    "#     WHERE TABLE_TYPE = 'BASE TABLE'\n",
    "# \"\"\")\n",
    "\n",
    "# # Fetch and print the list of tables\n",
    "# tables = cursor.fetchall()\n",
    "# for table in tables:\n",
    "#     print(table[0])\n"
>>>>>>> c3bd876542508caa35730899588ec6a185876657
   ]
  },
  {
   "cell_type": "code",
   "execution_count": 3,
   "metadata": {},
   "outputs": [
    {
     "name": "stdout",
     "output_type": "stream",
     "text": [
      "Processing table: Sales_July_2019\n",
      "Table Sales_July_2019 saved as Sales_July_2019.csv\n",
      "Processing table: Sales_August_2019\n",
      "Table Sales_August_2019 saved as Sales_August_2019.csv\n",
      "Processing table: Sales_September_2019\n",
      "Table Sales_September_2019 saved as Sales_September_2019.csv\n",
      "Processing table: Sales_October_2019\n",
      "Table Sales_October_2019 saved as Sales_October_2019.csv\n",
      "Processing table: Sales_November_2019\n",
      "Table Sales_November_2019 saved as Sales_November_2019.csv\n",
      "Processing table: Sales_December_2019\n",
      "Table Sales_December_2019 saved as Sales_December_2019.csv\n"
     ]
    }
   ],
   "source": [
    "# Create a cursor object\n",
    "cursor = connection.cursor()\n",
    "\n",
    "# Query to get all table names in the database \n",
    "cursor.execute(\"\"\"\n",
    "    SELECT TABLE_NAME\n",
    "    FROM INFORMATION_SCHEMA.TABLES\n",
    "    WHERE TABLE_TYPE = 'BASE TABLE'\n",
    "\"\"\")\n",
    "tables = cursor.fetchall()\n",
    "\n",
    "# Iterate through each table\n",
    "for table in tables:\n",
    "    table_name = table[0]\n",
    "    print(f\"Processing table: {table_name}\")\n",
    "\n",
    "    # Query to fetch all data from the table\n",
    "    query = f\"SELECT * FROM {table_name}\"\n",
    "    df = pd.read_sql(query, connection)\n",
    "\n",
    "    # Save the data to a CSV file\n",
    "    csv_file = f\"{table_name}.csv\"\n",
    "    df.to_csv(csv_file, index=False)\n",
    "    print(f\"Table {table_name} saved as {csv_file}\")"
   ]
  },
  {
   "cell_type": "code",
<<<<<<< HEAD
   "execution_count": 1,
=======
   "execution_count": 4,
>>>>>>> c3bd876542508caa35730899588ec6a185876657
   "metadata": {},
   "outputs": [
    {
     "ename": "NameError",
     "evalue": "name 'os' is not defined",
     "output_type": "error",
     "traceback": [
      "\u001b[1;31m---------------------------------------------------------------------------\u001b[0m",
      "\u001b[1;31mNameError\u001b[0m                                 Traceback (most recent call last)",
      "Cell \u001b[1;32mIn[1], line 5\u001b[0m\n\u001b[0;32m      2\u001b[0m directory \u001b[38;5;241m=\u001b[39m \u001b[38;5;124mr\u001b[39m\u001b[38;5;124m\"\u001b[39m\u001b[38;5;124mC:\u001b[39m\u001b[38;5;124m\\\u001b[39m\u001b[38;5;124mUsers\u001b[39m\u001b[38;5;124m\\\u001b[39m\u001b[38;5;124mDELL\u001b[39m\u001b[38;5;124m\\\u001b[39m\u001b[38;5;124mOneDrive\u001b[39m\u001b[38;5;124m\\\u001b[39m\u001b[38;5;124mCapstone_Project\u001b[39m\u001b[38;5;124m\\\u001b[39m\u001b[38;5;124mdata\u001b[39m\u001b[38;5;124m\"\u001b[39m  \u001b[38;5;66;03m# Change this to your actual directory\u001b[39;00m\n\u001b[0;32m      4\u001b[0m \u001b[38;5;66;03m# Iterate through all files in the directory\u001b[39;00m\n\u001b[1;32m----> 5\u001b[0m \u001b[38;5;28;01mfor\u001b[39;00m filename \u001b[38;5;129;01min\u001b[39;00m \u001b[43mos\u001b[49m\u001b[38;5;241m.\u001b[39mlistdir(directory):\n\u001b[0;32m      6\u001b[0m     \u001b[38;5;28;01mif\u001b[39;00m filename\u001b[38;5;241m.\u001b[39mendswith(\u001b[38;5;124m\"\u001b[39m\u001b[38;5;124m.csv\u001b[39m\u001b[38;5;124m\"\u001b[39m):\n\u001b[0;32m      7\u001b[0m         \u001b[38;5;66;03m# Full file path\u001b[39;00m\n\u001b[0;32m      8\u001b[0m         file_path \u001b[38;5;241m=\u001b[39m os\u001b[38;5;241m.\u001b[39mpath\u001b[38;5;241m.\u001b[39mjoin(directory, filename)\n",
      "\u001b[1;31mNameError\u001b[0m: name 'os' is not defined"
     ]
    }
   ],
   "source": [
    "# Information about the all 12 datasets, specifically to know the number of rows and columns in all of them \n",
    "# Directory where your CSV files are saved\n",
    "directory = r\"C:\\Users\\DELL\\OneDrive\\Capstone_Project\\data\"  # Change this to your actual directory\n",
    "\n",
    "# Iterate through all files in the directory\n",
    "for filename in os.listdir(directory):\n",
    "    if filename.endswith(\".csv\"):\n",
    "        # Full file path\n",
    "        file_path = os.path.join(directory, filename)\n",
    "        \n",
    "        # Load the CSV file into a DataFrame\n",
    "        df = pd.read_csv(file_path)\n",
    "        \n",
    "        # Get the number of rows and columns\n",
    "        rows, columns = df.shape\n",
    "        \n",
    "        # Print the results\n",
    "        print(f\"File: {filename}, Rows: {rows}, Columns: {columns}\")\n"
   ]
  },
  {
   "cell_type": "code",
   "execution_count": 10,
   "metadata": {},
   "outputs": [
    {
     "name": "stdout",
     "output_type": "stream",
     "text": [
      "Data types for data\\Sales_April_2019.csv:\n",
      "\n",
      "Order ID            object\n",
      "Product             object\n",
      "Quantity Ordered    object\n",
      "Price Each          object\n",
      "Order Date          object\n",
      "Purchase Address    object\n",
      "dtype: object\n",
      "--------------------------------------------------\n",
      "Data types for data\\Sales_August_2019.csv:\n",
      "\n",
      "Order_ID            float64\n",
      "Product              object\n",
      "Quantity_Ordered    float64\n",
      "Price_Each          float64\n",
      "Order_Date           object\n",
      "Purchase_Address     object\n",
      "dtype: object\n",
      "--------------------------------------------------\n",
      "Data types for data\\Sales_December_2019.csv:\n",
      "\n",
      "Order_ID            float64\n",
      "Product              object\n",
      "Quantity_Ordered    float64\n",
      "Price_Each          float64\n",
      "Order_Date           object\n",
      "Purchase_Address     object\n",
      "dtype: object\n",
      "--------------------------------------------------\n",
      "Data types for data\\Sales_February_2019.csv:\n",
      "\n",
      "Order ID            object\n",
      "Product             object\n",
      "Quantity Ordered    object\n",
      "Price Each          object\n",
      "Order Date          object\n",
      "Purchase Address    object\n",
      "dtype: object\n",
      "--------------------------------------------------\n",
      "Data types for data\\Sales_January_2019.csv:\n",
      "\n",
      "Order ID            object\n",
      "Product             object\n",
      "Quantity Ordered    object\n",
      "Price Each          object\n",
      "Order Date          object\n",
      "Purchase Address    object\n",
      "dtype: object\n",
      "--------------------------------------------------\n",
      "Data types for data\\Sales_July_2019.csv:\n",
      "\n",
      "Order_ID            float64\n",
      "Product              object\n",
      "Quantity_Ordered    float64\n",
      "Price_Each          float64\n",
      "Order_Date           object\n",
      "Purchase_Address     object\n",
      "dtype: object\n",
      "--------------------------------------------------\n",
      "Data types for data\\Sales_June_2019.csv:\n",
      "\n",
      "Order ID            object\n",
      "Product             object\n",
      "Quantity Ordered    object\n",
      "Price Each          object\n",
      "Order Date          object\n",
      "Purchase Address    object\n",
      "dtype: object\n",
      "--------------------------------------------------\n",
      "Data types for data\\Sales_March_2019.csv:\n",
      "\n",
      "Order ID            object\n",
      "Product             object\n",
      "Quantity Ordered    object\n",
      "Price Each          object\n",
      "Order Date          object\n",
      "Purchase Address    object\n",
      "dtype: object\n",
      "--------------------------------------------------\n",
      "Data types for data\\Sales_May_2019.csv:\n",
      "\n",
      "Order ID            object\n",
      "Product             object\n",
      "Quantity Ordered    object\n",
      "Price Each          object\n",
      "Order Date          object\n",
      "Purchase Address    object\n",
      "dtype: object\n",
      "--------------------------------------------------\n",
      "Data types for data\\Sales_November_2019.csv:\n",
      "\n",
      "Order_ID            float64\n",
      "Product              object\n",
      "Quantity_Ordered    float64\n",
      "Price_Each          float64\n",
      "Order_Date           object\n",
      "Purchase_Address     object\n",
      "dtype: object\n",
      "--------------------------------------------------\n",
      "Data types for data\\Sales_October_2019.csv:\n",
      "\n",
      "Order_ID            float64\n",
      "Product              object\n",
      "Quantity_Ordered    float64\n",
      "Price_Each          float64\n",
      "Order_Date           object\n",
      "Purchase_Address     object\n",
      "dtype: object\n",
      "--------------------------------------------------\n",
      "Data types for data\\Sales_September_2019.csv:\n",
      "\n",
      "Order_ID            float64\n",
      "Product              object\n",
      "Quantity_Ordered    float64\n",
      "Price_Each          float64\n",
      "Order_Date           object\n",
      "Purchase_Address     object\n",
      "dtype: object\n",
      "--------------------------------------------------\n"
     ]
    }
   ],
   "source": [
    "# information about the datatypes of columns in the various datasets\n",
    "\n",
    "# List to store the data types for each dataset\n",
    "data_types_dict = {}\n",
    "\n",
    "# Assuming all files are stored in a folder\n",
    "file_paths = glob.glob('data/*.csv')\n",
    "\n",
    "# Loop through each file, read it into a DataFrame, and get the data types\n",
    "for file in file_paths:\n",
    "    try:\n",
    "        # Read the CSV file into a DataFrame\n",
    "        df = pd.read_csv(file)\n",
    "        \n",
    "        # Get the file name (optional, for reference)\n",
    "        file_name = file.split('/')[-1]\n",
    "        \n",
    "        # Get the data types of the columns\n",
    "        data_types = df.dtypes\n",
    "        \n",
    "        # Store the data types in a dictionary with the file name as key\n",
    "        data_types_dict[file_name] = data_types\n",
    "        \n",
    "    except Exception as e:\n",
    "        print(f\"Error reading file {file}: {e}\")\n",
    "\n",
    "# Print the data types for each dataset in a structured format\n",
    "for file_name, data_types in data_types_dict.items():\n",
    "    print(f\"Data types for {file_name}:\\n\")\n",
    "    print(data_types)\n",
    "    print(\"-\" * 50)  # Separator for readability\n"
   ]
  },
  {
   "cell_type": "code",
   "execution_count": null,
   "metadata": {},
   "outputs": [],
   "source": []
  },
  {
   "cell_type": "markdown",
   "metadata": {},
   "source": [
    "all datasets had 6 columns but realized some of the columns had different names. For example Order ID and Order_ID. They are the same but differently represented and some also had different datatypes. We had to make all the necessary corrections and achieve common columns."
   ]
  },
  {
   "cell_type": "code",
   "execution_count": 11,
   "metadata": {},
   "outputs": [
    {
     "name": "stdout",
     "output_type": "stream",
     "text": [
      "<class 'pandas.core.frame.DataFrame'>\n",
      "RangeIndex: 186850 entries, 0 to 186849\n",
      "Data columns (total 6 columns):\n",
      " #   Column            Non-Null Count   Dtype         \n",
      "---  ------            --------------   -----         \n",
      " 0   Order_ID          186850 non-null  object        \n",
      " 1   Product           186305 non-null  object        \n",
      " 2   Quantity_Ordered  185950 non-null  float64       \n",
      " 3   Price_Each        185950 non-null  float64       \n",
      " 4   Order_Date        185950 non-null  datetime64[ns]\n",
      " 5   Purchase_Address  186305 non-null  object        \n",
      "dtypes: datetime64[ns](1), float64(2), object(3)\n",
      "memory usage: 8.6+ MB\n",
      "None\n",
      "  Order_ID                     Product  Quantity_Ordered  Price_Each  \\\n",
      "0   176558        USB-C Charging Cable               2.0       11.95   \n",
      "1      nan                         NaN               NaN         NaN   \n",
      "2   176559  Bose SoundSport Headphones               1.0       99.99   \n",
      "3   176560                Google Phone               1.0      600.00   \n",
      "4   176560            Wired Headphones               1.0       11.99   \n",
      "\n",
      "           Order_Date                      Purchase_Address  \n",
      "0 2019-04-19 08:46:00          917 1st St, Dallas, TX 75001  \n",
      "1                 NaT                                   NaN  \n",
      "2 2019-04-07 22:30:00     682 Chestnut St, Boston, MA 02215  \n",
      "3 2019-04-12 14:38:00  669 Spruce St, Los Angeles, CA 90001  \n",
      "4 2019-04-12 14:38:00  669 Spruce St, Los Angeles, CA 90001  \n"
     ]
    }
   ],
   "source": [
    "\n",
    "# Define a function to clean each dataset\n",
    "def clean_dataset(df):\n",
    "    # Rename columns to a consistent format\n",
    "    df.rename(columns={\n",
    "        'Order ID': 'Order_ID',\n",
    "        'Quantity Ordered': 'Quantity_Ordered',\n",
    "        'Price Each': 'Price_Each',\n",
    "        'Order Date': 'Order_Date',\n",
    "        'Purchase Address': 'Purchase_Address'\n",
    "    }, inplace=True)\n",
    "    \n",
    "    # Convert columns to the correct data types\n",
    "    df['Order_ID'] = df['Order_ID'].astype(str)\n",
    "    df['Quantity_Ordered'] = pd.to_numeric(df['Quantity_Ordered'], errors='coerce')\n",
    "    df['Price_Each'] = pd.to_numeric(df['Price_Each'], errors='coerce')\n",
    "    df['Order_Date'] = pd.to_datetime(df['Order_Date'], errors='coerce')\n",
    "    \n",
    "    return df\n",
    "\n",
    "# Assuming all files are stored in a folder\n",
    "file_paths = glob.glob('data/*.csv')\n",
    "\n",
    "# Read and clean each dataset, then concatenate them\n",
    "all_data = pd.concat([clean_dataset(pd.read_csv(file)) for file in file_paths], ignore_index=True)\n",
    "\n",
    "# Save the concatenated data to a new CSV file\n",
    "all_data.to_csv('cleaned_data.csv', index=False)\n",
    "\n",
    "# Check the resulting dataframe\n",
    "print(all_data.info())\n",
    "print(all_data.head())\n"
   ]
  },
  {
   "cell_type": "code",
   "execution_count": 12,
   "metadata": {},
   "outputs": [
    {
     "data": {
      "text/html": [
       "<div>\n",
       "<style scoped>\n",
       "    .dataframe tbody tr th:only-of-type {\n",
       "        vertical-align: middle;\n",
       "    }\n",
       "\n",
       "    .dataframe tbody tr th {\n",
       "        vertical-align: top;\n",
       "    }\n",
       "\n",
       "    .dataframe thead th {\n",
       "        text-align: right;\n",
       "    }\n",
       "</style>\n",
       "<table border=\"1\" class=\"dataframe\">\n",
       "  <thead>\n",
       "    <tr style=\"text-align: right;\">\n",
       "      <th></th>\n",
       "      <th>Order_ID</th>\n",
       "      <th>Product</th>\n",
       "      <th>Quantity_Ordered</th>\n",
       "      <th>Price_Each</th>\n",
       "      <th>Order_Date</th>\n",
       "      <th>Purchase_Address</th>\n",
       "    </tr>\n",
       "  </thead>\n",
       "  <tbody>\n",
       "    <tr>\n",
       "      <th>0</th>\n",
       "      <td>176558</td>\n",
       "      <td>USB-C Charging Cable</td>\n",
       "      <td>2.0</td>\n",
       "      <td>11.95000</td>\n",
       "      <td>2019-04-19 08:46:00</td>\n",
       "      <td>917 1st St, Dallas, TX 75001</td>\n",
       "    </tr>\n",
       "    <tr>\n",
       "      <th>1</th>\n",
       "      <td>NaN</td>\n",
       "      <td>NaN</td>\n",
       "      <td>NaN</td>\n",
       "      <td>NaN</td>\n",
       "      <td>NaN</td>\n",
       "      <td>NaN</td>\n",
       "    </tr>\n",
       "    <tr>\n",
       "      <th>2</th>\n",
       "      <td>176559</td>\n",
       "      <td>Bose SoundSport Headphones</td>\n",
       "      <td>1.0</td>\n",
       "      <td>99.99000</td>\n",
       "      <td>2019-04-07 22:30:00</td>\n",
       "      <td>682 Chestnut St, Boston, MA 02215</td>\n",
       "    </tr>\n",
       "    <tr>\n",
       "      <th>3</th>\n",
       "      <td>176560</td>\n",
       "      <td>Google Phone</td>\n",
       "      <td>1.0</td>\n",
       "      <td>600.00000</td>\n",
       "      <td>2019-04-12 14:38:00</td>\n",
       "      <td>669 Spruce St, Los Angeles, CA 90001</td>\n",
       "    </tr>\n",
       "    <tr>\n",
       "      <th>4</th>\n",
       "      <td>176560</td>\n",
       "      <td>Wired Headphones</td>\n",
       "      <td>1.0</td>\n",
       "      <td>11.99000</td>\n",
       "      <td>2019-04-12 14:38:00</td>\n",
       "      <td>669 Spruce St, Los Angeles, CA 90001</td>\n",
       "    </tr>\n",
       "    <tr>\n",
       "      <th>...</th>\n",
       "      <td>...</td>\n",
       "      <td>...</td>\n",
       "      <td>...</td>\n",
       "      <td>...</td>\n",
       "      <td>...</td>\n",
       "      <td>...</td>\n",
       "    </tr>\n",
       "    <tr>\n",
       "      <th>186845</th>\n",
       "      <td>259353.0</td>\n",
       "      <td>AAA Batteries (4-pack)</td>\n",
       "      <td>3.0</td>\n",
       "      <td>2.99000</td>\n",
       "      <td>2017-09-19 20:56:00</td>\n",
       "      <td>840 Highland St, Los Angeles, CA 90001</td>\n",
       "    </tr>\n",
       "    <tr>\n",
       "      <th>186846</th>\n",
       "      <td>259354.0</td>\n",
       "      <td>iPhone</td>\n",
       "      <td>1.0</td>\n",
       "      <td>700.00000</td>\n",
       "      <td>2001-09-19 16:00:00</td>\n",
       "      <td>216 Dogwood St, San Francisco, CA 94016</td>\n",
       "    </tr>\n",
       "    <tr>\n",
       "      <th>186847</th>\n",
       "      <td>259355.0</td>\n",
       "      <td>iPhone</td>\n",
       "      <td>1.0</td>\n",
       "      <td>700.00000</td>\n",
       "      <td>2023-09-19 07:39:00</td>\n",
       "      <td>220 12th St, San Francisco, CA 94016</td>\n",
       "    </tr>\n",
       "    <tr>\n",
       "      <th>186848</th>\n",
       "      <td>259356.0</td>\n",
       "      <td>34in Ultrawide Monitor</td>\n",
       "      <td>1.0</td>\n",
       "      <td>379.98999</td>\n",
       "      <td>2019-09-19 17:30:00</td>\n",
       "      <td>511 Forest St, San Francisco, CA 94016</td>\n",
       "    </tr>\n",
       "    <tr>\n",
       "      <th>186849</th>\n",
       "      <td>259357.0</td>\n",
       "      <td>USB-C Charging Cable</td>\n",
       "      <td>1.0</td>\n",
       "      <td>11.95000</td>\n",
       "      <td>2030-09-19 00:18:00</td>\n",
       "      <td>250 Meadow St, San Francisco, CA 94016</td>\n",
       "    </tr>\n",
       "  </tbody>\n",
       "</table>\n",
       "<p>186850 rows × 6 columns</p>\n",
       "</div>"
      ],
      "text/plain": [
       "        Order_ID                     Product  Quantity_Ordered  Price_Each  \\\n",
       "0         176558        USB-C Charging Cable               2.0    11.95000   \n",
       "1            NaN                         NaN               NaN         NaN   \n",
       "2         176559  Bose SoundSport Headphones               1.0    99.99000   \n",
       "3         176560                Google Phone               1.0   600.00000   \n",
       "4         176560            Wired Headphones               1.0    11.99000   \n",
       "...          ...                         ...               ...         ...   \n",
       "186845  259353.0      AAA Batteries (4-pack)               3.0     2.99000   \n",
       "186846  259354.0                      iPhone               1.0   700.00000   \n",
       "186847  259355.0                      iPhone               1.0   700.00000   \n",
       "186848  259356.0      34in Ultrawide Monitor               1.0   379.98999   \n",
       "186849  259357.0        USB-C Charging Cable               1.0    11.95000   \n",
       "\n",
       "                 Order_Date                         Purchase_Address  \n",
       "0       2019-04-19 08:46:00             917 1st St, Dallas, TX 75001  \n",
       "1                       NaN                                      NaN  \n",
       "2       2019-04-07 22:30:00        682 Chestnut St, Boston, MA 02215  \n",
       "3       2019-04-12 14:38:00     669 Spruce St, Los Angeles, CA 90001  \n",
       "4       2019-04-12 14:38:00     669 Spruce St, Los Angeles, CA 90001  \n",
       "...                     ...                                      ...  \n",
       "186845  2017-09-19 20:56:00   840 Highland St, Los Angeles, CA 90001  \n",
       "186846  2001-09-19 16:00:00  216 Dogwood St, San Francisco, CA 94016  \n",
       "186847  2023-09-19 07:39:00     220 12th St, San Francisco, CA 94016  \n",
       "186848  2019-09-19 17:30:00   511 Forest St, San Francisco, CA 94016  \n",
       "186849  2030-09-19 00:18:00   250 Meadow St, San Francisco, CA 94016  \n",
       "\n",
       "[186850 rows x 6 columns]"
      ]
     },
     "execution_count": 12,
     "metadata": {},
     "output_type": "execute_result"
    }
   ],
   "source": [
    "combined_df= pd.read_csv('cleaned_data.csv')\n",
    "combined_df"
   ]
  },
  {
   "cell_type": "markdown",
   "metadata": {},
   "source": [
    "### EDA"
   ]
  },
  {
   "cell_type": "code",
   "execution_count": 18,
   "metadata": {},
   "outputs": [
    {
     "name": "stdout",
     "output_type": "stream",
     "text": [
      "Missing values:\n",
      " Order_ID            740\n",
      "Product             545\n",
      "Quantity_Ordered    900\n",
      "Price_Each          900\n",
      "Order_Date          900\n",
      "Purchase_Address    545\n",
      "dtype: int64\n",
      "\n",
      "Descriptive statistics:\n",
      "        Quantity_Ordered     Price_Each\n",
      "count     185950.000000  185950.000000\n",
      "mean           1.124383     184.399734\n",
      "std            0.442793     332.731329\n",
      "min            1.000000       2.990000\n",
      "25%            1.000000      11.950000\n",
      "50%            1.000000      14.950000\n",
      "75%            1.000000     150.000000\n",
      "max            9.000000    1700.000000\n"
     ]
    },
    {
     "data": {
      "image/png": "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",
      "text/plain": [
       "<Figure size 1200x800 with 2 Axes>"
      ]
     },
     "metadata": {},
     "output_type": "display_data"
    },
    {
     "name": "stdout",
     "output_type": "stream",
     "text": [
      "\n",
      "Categorical value counts:\n",
      " Product\n",
      "USB-C Charging Cable          21903\n",
      "Lightning Charging Cable      21658\n",
      "AAA Batteries (4-pack)        20641\n",
      "AA Batteries (4-pack)         20577\n",
      "Wired Headphones              18882\n",
      "Apple Airpods Headphones      15549\n",
      "Bose SoundSport Headphones    13325\n",
      "27in FHD Monitor               7507\n",
      "iPhone                         6842\n",
      "27in 4K Gaming Monitor         6230\n",
      "34in Ultrawide Monitor         6181\n",
      "Google Phone                   5525\n",
      "Flatscreen TV                  4800\n",
      "Macbook Pro Laptop             4724\n",
      "ThinkPad Laptop                4128\n",
      "20in Monitor                   4101\n",
      "Vareebadd Phone                2065\n",
      "LG Washing Machine              666\n",
      "LG Dryer                        646\n",
      "Product                         355\n",
      "Name: count, dtype: int64\n"
     ]
    }
   ],
   "source": [
    "\n",
    "# Load the combined dataset\n",
    "combined_df\n",
    "\n",
    "# 1. Check for Missing Values\n",
    "print(\"Missing values:\\n\", combined_df.isnull().sum())\n",
    "\n",
    "# 2. Descriptive Statistics\n",
    "print(\"\\nDescriptive statistics:\\n\", combined_df.describe())\n",
    "\n",
    "# 3. Data Distribution for Numerical Columns\n",
    "combined_df.hist(bins=50, figsize=(12, 8))\n",
    "plt.show()\n",
    "\n",
    "# 4. Categorical Variable Analysis\n",
    "print(\"\\nCategorical value counts:\\n\", combined_df['Product'].value_counts())\n"
   ]
  },
  {
   "cell_type": "code",
   "execution_count": null,
   "metadata": {},
   "outputs": [],
   "source": []
  },
  {
   "cell_type": "code",
   "execution_count": null,
   "metadata": {},
   "outputs": [],
   "source": []
  },
  {
   "cell_type": "code",
   "execution_count": null,
   "metadata": {},
   "outputs": [],
   "source": []
  },
  {
   "cell_type": "code",
   "execution_count": null,
   "metadata": {},
   "outputs": [],
   "source": []
  },
  {
   "cell_type": "code",
   "execution_count": null,
   "metadata": {},
   "outputs": [],
   "source": []
  },
  {
   "cell_type": "code",
   "execution_count": null,
   "metadata": {},
   "outputs": [],
   "source": []
  },
  {
   "cell_type": "code",
   "execution_count": null,
   "metadata": {},
   "outputs": [],
   "source": []
  },
  {
   "cell_type": "code",
   "execution_count": null,
   "metadata": {},
   "outputs": [],
   "source": []
  },
  {
   "cell_type": "markdown",
   "metadata": {},
   "source": [
    "UNIVARIATE ANALYSIS"
   ]
  },
  {
   "cell_type": "code",
   "execution_count": 44,
   "metadata": {},
   "outputs": [
    {
     "data": {
      "text/plain": [
       "array([[<Axes: title={'center': 'Order_ID'}>,\n",
       "        <Axes: title={'center': 'Quantity_Ordered'}>],\n",
       "       [<Axes: title={'center': 'Price_Each'}>, <Axes: >]], dtype=object)"
      ]
     },
     "execution_count": 44,
     "metadata": {},
     "output_type": "execute_result"
    },
    {
     "data": {
      "image/png": "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",
      "text/plain": [
       "<Figure size 640x480 with 4 Axes>"
      ]
     },
     "metadata": {},
     "output_type": "display_data"
    }
   ],
   "source": [
    "# plot histogram on the numerical columns \n",
    "combined_df.hist()\n"
   ]
  },
  {
   "cell_type": "code",
   "execution_count": 51,
   "metadata": {},
   "outputs": [
    {
     "name": "stdout",
     "output_type": "stream",
     "text": [
      "Product\n",
      "USB-C Charging Cable          21903\n",
      "Lightning Charging Cable      21658\n",
      "AAA Batteries (4-pack)        20641\n",
      "AA Batteries (4-pack)         20577\n",
      "Wired Headphones              18882\n",
      "Apple Airpods Headphones      15549\n",
      "Bose SoundSport Headphones    13325\n",
      "27in FHD Monitor               7507\n",
      "iPhone                         6842\n",
      "27in 4K Gaming Monitor         6230\n",
      "34in Ultrawide Monitor         6181\n",
      "Google Phone                   5525\n",
      "Flatscreen TV                  4800\n",
      "Macbook Pro Laptop             4724\n",
      "ThinkPad Laptop                4128\n",
      "20in Monitor                   4101\n",
      "Vareebadd Phone                2065\n",
      "LG Washing Machine              666\n",
      "LG Dryer                        646\n",
      "Product                         355\n",
      "Name: count, dtype: int64\n"
     ]
    },
    {
     "data": {
      "image/png": "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",
      "text/plain": [
       "<Figure size 1200x800 with 1 Axes>"
      ]
     },
     "metadata": {},
     "output_type": "display_data"
    }
   ],
   "source": [
    "# Frequency count\n",
    "print(combined_df['Product'].value_counts())\n",
    "\n",
    "# Bar plot for top 10 products by number of 'Quantity_Ordered'\n",
    "plt.figure(figsize=(12, 8))\n",
    "combined_df['Product'].value_counts().nlargest(10).plot(kind='bar')\n",
    "plt.title('Top 10 Product by Number of Quantity_Ordered')\n",
    "plt.xlabel('Product')\n",
    "plt.ylabel('Number of Quantity_Ordered')\n",
    "plt.show()"
   ]
  },
  {
   "cell_type": "code",
   "execution_count": 57,
   "metadata": {},
   "outputs": [
    {
     "data": {
      "image/png": "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",
      "text/plain": [
       "<Figure size 1400x800 with 1 Axes>"
      ]
     },
     "metadata": {},
     "output_type": "display_data"
    }
   ],
   "source": [
    "# Boxplot to show distribution of prices across quantities ordered\n",
    "plt.figure(figsize=(14, 8))\n",
    "\n",
    "# Ensuring that 'Quantity_Ordered' is treated as a categorical variable\n",
    "sns.boxplot(x='Quantity_Ordered', y='Price_Each', data=combined_df)\n",
    "\n",
    "plt.title('Prices by Quantity_Ordered')\n",
    "plt.xlabel('Quantity Ordered')\n",
    "plt.ylabel('Price_Each')\n",
    "plt.xticks(rotation=90)  # Rotating x-ticks for better visibility if needed\n",
    "plt.show()\n"
   ]
  },
  {
   "cell_type": "code",
   "execution_count": null,
   "metadata": {},
   "outputs": [],
   "source": []
  }
 ],
 "metadata": {
  "kernelspec": {
   "display_name": "virt_caps",
   "language": "python",
   "name": "python3"
  },
  "language_info": {
   "codemirror_mode": {
    "name": "ipython",
    "version": 3
   },
   "file_extension": ".py",
   "mimetype": "text/x-python",
   "name": "python",
   "nbconvert_exporter": "python",
   "pygments_lexer": "ipython3",
<<<<<<< HEAD
   "version": "3.12.4"
=======
   "version": "3.11.9"
>>>>>>> c3bd876542508caa35730899588ec6a185876657
  }
 },
 "nbformat": 4,
 "nbformat_minor": 2
}
